{
 "cells": [
  {
   "cell_type": "markdown",
   "id": "f7cd92d8-76a7-4fda-9e2f-e57d3da51da3",
   "metadata": {},
   "source": [
    "EXERCISE FIRST WEEK"
   ]
  },
  {
   "cell_type": "markdown",
   "id": "69ecefa2-82dc-41da-af01-77417131dace",
   "metadata": {},
   "source": [
    "Exercise 1"
   ]
  },
  {
   "cell_type": "code",
   "execution_count": 3,
   "id": "f7fa81b1-8d2c-470d-a683-050318f07032",
   "metadata": {},
   "outputs": [],
   "source": [
    "ice_cream_rating = 5\n",
    "sleeping_rating = 9"
   ]
  },
  {
   "cell_type": "markdown",
   "id": "659a5747-7025-44a2-9194-bc4578077d0e",
   "metadata": {},
   "source": [
    "Exercise 2"
   ]
  },
  {
   "cell_type": "code",
   "execution_count": 5,
   "id": "271ac616-ea57-4a03-bc2b-c44bea538ab2",
   "metadata": {},
   "outputs": [],
   "source": [
    "first_name = \"Eduardo\"\n",
    "last_name = \"Noble\"\n",
    "my_name = \"Eduardo Noble\""
   ]
  },
  {
   "cell_type": "markdown",
   "id": "fe9ab5c4-93d2-4595-84ec-b054bb2d2ca2",
   "metadata": {},
   "source": [
    "Exercise 3"
   ]
  },
  {
   "cell_type": "code",
   "execution_count": 6,
   "id": "d419692f-8779-4037-ad69-c4a017d6788c",
   "metadata": {},
   "outputs": [],
   "source": [
    "happiness_rating = (ice_cream_rating + sleeping_rating) / 2"
   ]
  },
  {
   "cell_type": "markdown",
   "id": "1db51599-c422-4982-9bd5-47300903a1b8",
   "metadata": {},
   "source": [
    "Exercise 4"
   ]
  },
  {
   "cell_type": "code",
   "execution_count": 16,
   "id": "b882906f-79f3-4ed4-98f7-73c862056dfb",
   "metadata": {},
   "outputs": [
    {
     "name": "stdout",
     "output_type": "stream",
     "text": [
      "<class 'int'>\n",
      "<class 'int'>\n",
      "<class 'float'>\n"
     ]
    }
   ],
   "source": [
    "print(type(ice_cream_rating))\n",
    "print(type(sleeping_rating))\n",
    "print(type(happiness_rating))"
   ]
  },
  {
   "cell_type": "code",
   "execution_count": null,
   "id": "03051727-3e3e-4f15-82e7-907af9a0e8f9",
   "metadata": {},
   "outputs": [],
   "source": [
    "#I Thinked the print \"happiness_rating\" was a 'int'"
   ]
  },
  {
   "cell_type": "markdown",
   "id": "47d992b0-b6dd-4ece-a00e-875e7e049e36",
   "metadata": {},
   "source": [
    "Exercise 5"
   ]
  },
  {
   "cell_type": "code",
   "execution_count": 25,
   "id": "a5d8ba77-cb0b-400a-ac4e-24e108ca72ae",
   "metadata": {
    "editable": true,
    "slideshow": {
     "slide_type": ""
    },
    "tags": []
   },
   "outputs": [
    {
     "name": "stdout",
     "output_type": "stream",
     "text": [
      "My name is Eduardo and I give eating ice cream a score of 5 out of 10! I am Eduardo Noble and my sleeping enjoyment rating is 9 / 10! Based on the factors above, my happiness rating is 7.0 out of 10, or 70.0 %\n"
     ]
    }
   ],
   "source": [
    "print(\"My name is\", first_name,\"and I give eating ice cream a score of\", ice_cream_rating,\"out of 10!\",\n",
    "\"I am\",my_name,\"and my sleeping enjoyment rating is\", sleeping_rating, \"/ 10!\",\n",
    "\"Based on the factors above, my happiness rating is\",happiness_rating, \"out of 10, or 70.0 %\")"
   ]
  },
  {
   "cell_type": "code",
   "execution_count": null,
   "id": "011679f5-bb1f-4650-a0c6-eda3b8ed5dba",
   "metadata": {
    "editable": true,
    "slideshow": {
     "slide_type": ""
    },
    "tags": []
   },
   "outputs": [],
   "source": []
  }
 ],
 "metadata": {
  "kernelspec": {
   "display_name": "Python 3 (ipykernel)",
   "language": "python",
   "name": "python3"
  },
  "language_info": {
   "codemirror_mode": {
    "name": "ipython",
    "version": 3
   },
   "file_extension": ".py",
   "mimetype": "text/x-python",
   "name": "python",
   "nbconvert_exporter": "python",
   "pygments_lexer": "ipython3",
   "version": "3.12.1"
  }
 },
 "nbformat": 4,
 "nbformat_minor": 5
}
